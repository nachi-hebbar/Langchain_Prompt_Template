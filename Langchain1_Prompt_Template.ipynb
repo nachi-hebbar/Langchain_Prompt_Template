{
  "nbformat": 4,
  "nbformat_minor": 0,
  "metadata": {
    "colab": {
      "provenance": []
    },
    "kernelspec": {
      "name": "python3",
      "display_name": "Python 3"
    },
    "language_info": {
      "name": "python"
    }
  },
  "cells": [
    {
      "cell_type": "code",
      "execution_count": null,
      "metadata": {
        "id": "h2qy3y42E_oH"
      },
      "outputs": [],
      "source": [
        "!pip install langchain openai chainlit"
      ]
    },
    {
      "cell_type": "code",
      "source": [
        "import openai\n",
        "import os\n",
        "from langchain import PromptTemplate\n",
        "from langchain.llms import OpenAI\n",
        "from langchain.chains import LLMChain\n",
        "from langchain.chains import SequentialChain\n",
        "import chainlit as cl"
      ],
      "metadata": {
        "id": "teJVX2tEGMiy"
      },
      "execution_count": null,
      "outputs": []
    },
    {
      "cell_type": "markdown",
      "source": [
        "Creating First Prompt Template\n"
      ],
      "metadata": {
        "id": "D54JcuP3A6bs"
      }
    },
    {
      "cell_type": "code",
      "source": [
        "linkedin_post_template=\"\"\"\n",
        " Write a LinkedIn post for my company Awiros\n",
        " which is a Video AI startup. The post is on the latest app: {app} that we are launching.\n",
        " Keep it brief and under 150 words to advertise it potential customers across industries that it can be relevant in\n",
        " \"\"\""
      ],
      "metadata": {
        "id": "sGeLJy1RGh-8"
      },
      "execution_count": null,
      "outputs": []
    },
    {
      "cell_type": "code",
      "source": [
        "os.environ[\"OPENAI_API_KEY\"] = ''\n"
      ],
      "metadata": {
        "id": "GvU-r_tcfGYQ"
      },
      "execution_count": null,
      "outputs": []
    },
    {
      "cell_type": "code",
      "source": [
        "prompt_template=PromptTemplate(input_variables=['app'],template=linkedin_post_template)"
      ],
      "metadata": {
        "id": "DMWYm0efG4bR"
      },
      "execution_count": null,
      "outputs": []
    },
    {
      "cell_type": "markdown",
      "source": [
        "Initialize LLM Model\n"
      ],
      "metadata": {
        "id": "EbgITuQDA-2g"
      }
    },
    {
      "cell_type": "code",
      "source": [
        "post_llm=OpenAI(temperature=0,model_name=\"gpt-3.5-turbo\")"
      ],
      "metadata": {
        "id": "W_5VIdlDHNlC",
        "colab": {
          "base_uri": "https://localhost:8080/"
        },
        "outputId": "03864728-9479-47d0-ca07-c91210e3a2f2"
      },
      "execution_count": null,
      "outputs": [
        {
          "output_type": "stream",
          "name": "stderr",
          "text": [
            "/usr/local/lib/python3.10/dist-packages/langchain/llms/openai.py:189: UserWarning: You are trying to use a chat model. This way of initializing it is no longer supported. Instead, please use: `from langchain.chat_models import ChatOpenAI`\n",
            "  warnings.warn(\n",
            "/usr/local/lib/python3.10/dist-packages/langchain/llms/openai.py:769: UserWarning: You are trying to use a chat model. This way of initializing it is no longer supported. Instead, please use: `from langchain.chat_models import ChatOpenAI`\n",
            "  warnings.warn(\n"
          ]
        }
      ]
    },
    {
      "cell_type": "markdown",
      "source": [
        "Create a chain of LLM Model + Prompt Template"
      ],
      "metadata": {
        "id": "ZNG8ew5GBBlb"
      }
    },
    {
      "cell_type": "code",
      "source": [
        "post_chain=LLMChain(llm=post_llm,prompt=prompt_template,output_key=\"post\",verbose=True)"
      ],
      "metadata": {
        "id": "kZuf5-PGI6E5"
      },
      "execution_count": null,
      "outputs": []
    },
    {
      "cell_type": "code",
      "source": [
        "post_chain({\"app\":\"Cattle Detection\"})"
      ],
      "metadata": {
        "id": "Sv5PKCgUjjvQ"
      },
      "execution_count": null,
      "outputs": []
    },
    {
      "cell_type": "markdown",
      "source": [
        "Second Prompt Template\n"
      ],
      "metadata": {
        "id": "q_hMqB-ugrZC"
      }
    },
    {
      "cell_type": "code",
      "source": [
        "review_template=\"\"\"\n",
        "As an investor in Video AI startups review the following linkedin post by an emerging Video AI company and give your feedback on the same.\n",
        " Suggest changes that would have a higher impact on investors as well encourage customers to buy the solutions.\n",
        " The post: {post}\n",
        " \"\"\""
      ],
      "metadata": {
        "id": "KOewxNR6guS_"
      },
      "execution_count": null,
      "outputs": []
    },
    {
      "cell_type": "code",
      "source": [
        "prompt_review_template=PromptTemplate(input_variables=[\"post\"],template=review_template)\n"
      ],
      "metadata": {
        "id": "qG53LyH6hSXu"
      },
      "execution_count": null,
      "outputs": []
    },
    {
      "cell_type": "markdown",
      "source": [
        "Create the 2nd LLM Chain"
      ],
      "metadata": {
        "id": "kgpTORzOBImY"
      }
    },
    {
      "cell_type": "code",
      "source": [
        "review_chain=LLMChain(llm=post_llm,prompt=prompt_review_template,output_key=\"review\")"
      ],
      "metadata": {
        "id": "DKt3kmPriQjf"
      },
      "execution_count": null,
      "outputs": []
    },
    {
      "cell_type": "markdown",
      "source": [
        "Combine the First and Second Chain Sequentially"
      ],
      "metadata": {
        "id": "5KcQv32RBLXz"
      }
    },
    {
      "cell_type": "code",
      "source": [
        "overall_chain=SequentialChain(chains=[post_chain,review_chain],input_variables=[\"app\"],\n",
        "                              output_variables=[\"post\",\"review\"],verbose=True)"
      ],
      "metadata": {
        "id": "qs2M2FariYsd"
      },
      "execution_count": null,
      "outputs": []
    },
    {
      "cell_type": "code",
      "source": [
        "overall_chain({\"app\":\"Cattle Detection\"})"
      ],
      "metadata": {
        "id": "_c0H2EFCJJsr"
      },
      "execution_count": null,
      "outputs": []
    }
  ]
}